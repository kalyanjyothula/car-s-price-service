{
 "cells": [
  {
   "cell_type": "code",
   "execution_count": 89,
   "id": "6650ceb7-1ad7-4ee8-b04c-97334a711095",
   "metadata": {},
   "outputs": [],
   "source": [
    "import pandas as pd\n",
    "import numpy as np\n",
    "import matplotlib.pyplot as plt\n",
    "import seaborn as sns\n",
    "import ast"
   ]
  },
  {
   "cell_type": "code",
   "execution_count": 91,
   "id": "99b55137-b047-4e0e-9421-a462808ac64e",
   "metadata": {},
   "outputs": [],
   "source": [
    "import warnings\n",
    "warnings.filterwarnings(\"ignore\")\n",
    "%matplotlib inline"
   ]
  },
  {
   "cell_type": "code",
   "execution_count": 93,
   "id": "2995791c-2d9e-4276-8408-f25505ccd9d1",
   "metadata": {},
   "outputs": [],
   "source": [
    "# reading data\n",
    "df = pd.read_csv('cars_data_clean.csv')\n",
    "# df.head()"
   ]
  },
  {
   "cell_type": "code",
   "execution_count": 95,
   "id": "4e9312ed-6f8c-4829-8a19-08f95844508a",
   "metadata": {},
   "outputs": [],
   "source": [
    "df.columns\n",
    "excluded = ['usedCarSkuId', 'images', 'loc',\n",
    "            'imgCount', 'dvn', 'City', 'Drive Type',\n",
    "            'state', 'Compression Ratio', 'Alloy Wheel Size', \n",
    "            'Ground Clearance Unladen', 'Stroke', 'Bore', \n",
    "            'Length', 'Width', 'Height', \n",
    "            'Valve Configuration','Max Torque At',\n",
    "            'Max Power At','Fuel Suppy System', 'discountValue', 'top_features' ]"
   ]
  },
  {
   "cell_type": "code",
   "execution_count": 97,
   "id": "654de410-795d-4694-8dd0-89ce9120a3ac",
   "metadata": {},
   "outputs": [],
   "source": [
    "df.drop(columns=excluded,inplace=True)\n",
    "# df.head()\n",
    "# mainDf.info()"
   ]
  },
  {
   "cell_type": "code",
   "execution_count": 99,
   "id": "9c4fb3f3-f94c-403c-8956-9b430e5de906",
   "metadata": {},
   "outputs": [],
   "source": [
    "rename_dict = {\n",
    "     'Color': 'color',\n",
    "    'Engine Type': 'engine_type', 'No of Cylinder': 'no_of_cylinder',\n",
    "    'Valves per Cylinder': 'valves_per_cylinder', 'Turbo Charger': 'turbo_charger',\n",
    "    'Super Charger': 'super_charger', 'Wheel Base': 'wheel_base',\n",
    "    'Front Tread': 'front_tread', 'Rear Tread': 'rear_tread',\n",
    "    'Kerb Weight': 'kerb_weight', 'Gross Weight': 'gross_weight',\n",
    "    'Gear Box': 'gear_box', 'Seats': 'seats', 'Steering Type': 'steering_type',\n",
    "    'Turning Radius': 'turning_radius', 'Front Brake Type': 'front_brake_type',\n",
    "    'Rear Brake Type': 'rear_brake_type', 'Top Speed': 'top_speed',\n",
    "    'Acceleration': 'acceleration', 'Tyre Type': 'tyre_type', 'Doors': 'doors',\n",
    "    'Cargo Volume': 'cargo_volume', 'model_type_new': 'model_type_new',\n",
    "    'exterior_color': 'exterior_color', 'owner_type': 'owner_type',\n",
    "    'Max Power Delivered': 'max_power_delivered', 'Max Torque Delivered': 'max_torque_delivered'\n",
    "}\n",
    "\n",
    "df = df.rename(columns=rename_dict)"
   ]
  },
  {
   "cell_type": "code",
   "execution_count": 103,
   "id": "58ee6456-9fbd-4589-bfb9-beaaad5bb265",
   "metadata": {},
   "outputs": [
    {
     "name": "stdout",
     "output_type": "stream",
     "text": [
      "body                       19\n",
      "color                     160\n",
      "engine_type               868\n",
      "no_of_cylinder            143\n",
      "valves_per_cylinder       228\n",
      "wheel_base                556\n",
      "front_tread             15874\n",
      "rear_tread              15875\n",
      "kerb_weight             13139\n",
      "gross_weight            20890\n",
      "gear_box                  471\n",
      "seats                      18\n",
      "steering_type             808\n",
      "turning_radius           5848\n",
      "front_brake_type          327\n",
      "rear_brake_type           326\n",
      "top_speed               15352\n",
      "acceleration            13988\n",
      "tyre_type                 257\n",
      "doors                      44\n",
      "cargo_volume             6732\n",
      "exterior_color            123\n",
      "max_power_delivered       231\n",
      "max_torque_delivered      231\n",
      "dtype: int64\n"
     ]
    }
   ],
   "source": [
    "# mainDf.describe()\n",
    "missing_values = df.isna().sum()\n",
    "missing_values = missing_values[missing_values > 0]  # Filter out columns with 0 missing values\n",
    "\n",
    "print(missing_values)"
   ]
  },
  {
   "cell_type": "code",
   "execution_count": 105,
   "id": "1913accf-0c6b-4193-a7e8-b205296e7c85",
   "metadata": {},
   "outputs": [
    {
     "data": {
      "text/plain": [
       "array(['hatchback', 'sedan', 'muv', 'minivans', nan, 'pickup trucks',\n",
       "       'suv', 'luxury vehicles', 'convertibles', 'coupe', 'wagon',\n",
       "       'hybrids'], dtype=object)"
      ]
     },
     "execution_count": 105,
     "metadata": {},
     "output_type": "execute_result"
    }
   ],
   "source": [
    "df['body'].describe()\n",
    "df['body'].unique()"
   ]
  },
  {
   "cell_type": "markdown",
   "id": "f1ac968e-61f8-427c-af46-40b2fc473d92",
   "metadata": {},
   "source": [
    "## filling Nan values of categorical values\n",
    "### Approaches\n",
    "    1. Removing na row/columns\n",
    "    2. Fill missing categorical values with 'Unknown' (new category)\n",
    "    3. Fill with Mean/Median/Mode\n",
    "    4. Forward or Backward Fill (method='ffill/bfill')\n",
    "    5. Fill with SimpleImputer approach"
   ]
  },
  {
   "cell_type": "code",
   "execution_count": 107,
   "id": "99cd4fbb-2d41-4306-9647-14a1a29cdc4f",
   "metadata": {},
   "outputs": [
    {
     "data": {
      "text/plain": [
       "['color',\n",
       " 'engine_type',\n",
       " 'no_of_cylinder',\n",
       " 'valves_per_cylinder',\n",
       " 'wheel_base',\n",
       " 'front_tread',\n",
       " 'rear_tread',\n",
       " 'kerb_weight',\n",
       " 'gross_weight',\n",
       " 'gear_box',\n",
       " 'seats',\n",
       " 'steering_type',\n",
       " 'turning_radius',\n",
       " 'front_brake_type',\n",
       " 'rear_brake_type',\n",
       " 'top_speed',\n",
       " 'acceleration',\n",
       " 'tyre_type',\n",
       " 'doors',\n",
       " 'cargo_volume',\n",
       " 'exterior_color',\n",
       " 'max_power_delivered',\n",
       " 'max_torque_delivered']"
      ]
     },
     "execution_count": 107,
     "metadata": {},
     "output_type": "execute_result"
    }
   ],
   "source": [
    "df['body'].fillna(df['body'].mode()[0], inplace=True)\n",
    "naColumns = [col for col in df.columns if df[col].isna().sum() > 0]\n",
    "naColumns"
   ]
  },
  {
   "cell_type": "code",
   "execution_count": 109,
   "id": "8a445773-0308-49aa-8767-fbdbbb4106d6",
   "metadata": {},
   "outputs": [
    {
     "data": {
      "text/plain": [
       "(37813, 44)"
      ]
     },
     "execution_count": 109,
     "metadata": {},
     "output_type": "execute_result"
    }
   ],
   "source": [
    "# filling Nan suing simpleimputer\n",
    "from sklearn.impute import SimpleImputer\n",
    "cat_imputer = SimpleImputer(strategy='most_frequent')\n",
    "df[naColumns] = cat_imputer.fit_transform(df[naColumns])\n",
    "df.shape"
   ]
  },
  {
   "cell_type": "code",
   "execution_count": 67,
   "id": "0e4706b8-e07d-4d84-9bca-be1dcba0fb62",
   "metadata": {},
   "outputs": [
    {
     "data": {
      "text/plain": [
       "myear                   0\n",
       "body                    0\n",
       "transmission            0\n",
       "fuel                    0\n",
       "km                      0\n",
       "ip                      0\n",
       "threesixty              0\n",
       "oem                     0\n",
       "model                   0\n",
       "variant                 0\n",
       "listed_price            0\n",
       "utype                   0\n",
       "carType                 0\n",
       "comfort_features        0\n",
       "interior_features       0\n",
       "exterior_features       0\n",
       "safety_features         0\n",
       "Color                   0\n",
       "Engine Type             0\n",
       "No of Cylinder          0\n",
       "Valves per Cylinder     0\n",
       "Turbo Charger           0\n",
       "Super Charger           0\n",
       "Wheel Base              0\n",
       "Front Tread             0\n",
       "Rear Tread              0\n",
       "Kerb Weight             0\n",
       "Gross Weight            0\n",
       "Gear Box                0\n",
       "Seats                   0\n",
       "Steering Type           0\n",
       "Turning Radius          0\n",
       "Front Brake Type        0\n",
       "Rear Brake Type         0\n",
       "Top Speed               0\n",
       "Acceleration            0\n",
       "Tyre Type               0\n",
       "Doors                   0\n",
       "Cargo Volume            0\n",
       "model_type_new          0\n",
       "exterior_color          0\n",
       "owner_type              0\n",
       "Max Power Delivered     0\n",
       "Max Torque Delivered    0\n",
       "dtype: int64"
      ]
     },
     "execution_count": 67,
     "metadata": {},
     "output_type": "execute_result"
    }
   ],
   "source": [
    "df.isna().sum()"
   ]
  },
  {
   "cell_type": "code",
   "execution_count": 111,
   "id": "441deb57-af36-4b63-81a2-c55a5c0bbe3f",
   "metadata": {},
   "outputs": [
    {
     "data": {
      "text/html": [
       "<div>\n",
       "<style scoped>\n",
       "    .dataframe tbody tr th:only-of-type {\n",
       "        vertical-align: middle;\n",
       "    }\n",
       "\n",
       "    .dataframe tbody tr th {\n",
       "        vertical-align: top;\n",
       "    }\n",
       "\n",
       "    .dataframe thead th {\n",
       "        text-align: right;\n",
       "    }\n",
       "</style>\n",
       "<table border=\"1\" class=\"dataframe\">\n",
       "  <thead>\n",
       "    <tr style=\"text-align: right;\">\n",
       "      <th></th>\n",
       "      <th>myear</th>\n",
       "      <th>km</th>\n",
       "      <th>ip</th>\n",
       "      <th>listed_price</th>\n",
       "    </tr>\n",
       "  </thead>\n",
       "  <tbody>\n",
       "    <tr>\n",
       "      <th>count</th>\n",
       "      <td>37813.000000</td>\n",
       "      <td>3.781300e+04</td>\n",
       "      <td>37813.000000</td>\n",
       "      <td>3.781300e+04</td>\n",
       "    </tr>\n",
       "    <tr>\n",
       "      <th>mean</th>\n",
       "      <td>2015.569513</td>\n",
       "      <td>6.240930e+04</td>\n",
       "      <td>0.010208</td>\n",
       "      <td>7.999868e+05</td>\n",
       "    </tr>\n",
       "    <tr>\n",
       "      <th>std</th>\n",
       "      <td>3.779089</td>\n",
       "      <td>5.847216e+04</td>\n",
       "      <td>0.100520</td>\n",
       "      <td>3.043045e+06</td>\n",
       "    </tr>\n",
       "    <tr>\n",
       "      <th>min</th>\n",
       "      <td>1983.000000</td>\n",
       "      <td>1.010000e+02</td>\n",
       "      <td>0.000000</td>\n",
       "      <td>1.196300e+04</td>\n",
       "    </tr>\n",
       "    <tr>\n",
       "      <th>25%</th>\n",
       "      <td>2013.000000</td>\n",
       "      <td>3.173900e+04</td>\n",
       "      <td>0.000000</td>\n",
       "      <td>3.200000e+05</td>\n",
       "    </tr>\n",
       "    <tr>\n",
       "      <th>50%</th>\n",
       "      <td>2016.000000</td>\n",
       "      <td>5.672600e+04</td>\n",
       "      <td>0.000000</td>\n",
       "      <td>5.250000e+05</td>\n",
       "    </tr>\n",
       "    <tr>\n",
       "      <th>75%</th>\n",
       "      <td>2018.000000</td>\n",
       "      <td>8.331000e+04</td>\n",
       "      <td>0.000000</td>\n",
       "      <td>8.552720e+05</td>\n",
       "    </tr>\n",
       "    <tr>\n",
       "      <th>max</th>\n",
       "      <td>2023.000000</td>\n",
       "      <td>6.300000e+06</td>\n",
       "      <td>1.000000</td>\n",
       "      <td>5.500006e+08</td>\n",
       "    </tr>\n",
       "  </tbody>\n",
       "</table>\n",
       "</div>"
      ],
      "text/plain": [
       "              myear            km            ip  listed_price\n",
       "count  37813.000000  3.781300e+04  37813.000000  3.781300e+04\n",
       "mean    2015.569513  6.240930e+04      0.010208  7.999868e+05\n",
       "std        3.779089  5.847216e+04      0.100520  3.043045e+06\n",
       "min     1983.000000  1.010000e+02      0.000000  1.196300e+04\n",
       "25%     2013.000000  3.173900e+04      0.000000  3.200000e+05\n",
       "50%     2016.000000  5.672600e+04      0.000000  5.250000e+05\n",
       "75%     2018.000000  8.331000e+04      0.000000  8.552720e+05\n",
       "max     2023.000000  6.300000e+06      1.000000  5.500006e+08"
      ]
     },
     "execution_count": 111,
     "metadata": {},
     "output_type": "execute_result"
    }
   ],
   "source": [
    "df.describe()"
   ]
  },
  {
   "cell_type": "code",
   "execution_count": 115,
   "id": "ac494c09-9723-460c-81c1-d62afa147cae",
   "metadata": {},
   "outputs": [],
   "source": [
    "# data type conversion\n",
    "df = df.rename(columns={'listed_price': 'selling_price'})"
   ]
  },
  {
   "cell_type": "code",
   "execution_count": 117,
   "id": "c6e2db35-4850-4a9a-bce7-9ee45a0ad643",
   "metadata": {},
   "outputs": [],
   "source": [
    "feature_weight = {\n",
    "    'power steering': 1,\n",
    "    'power windows front': 1, \n",
    "    'air conditioner': 1,\n",
    "    'heater': 1, \n",
    "    'adjustable head lights': 2,\n",
    "    'manually adjustable exterior rear view mirror': 1, \n",
    "    'centeral locking': 2,\n",
    "    'child safety locks': 2, \n",
    "    'number of speaker': 1,\n",
    "    'digital odometer': 1, \n",
    "    'electronic multi tripmeter': 1,\n",
    "    'fabric upholstery':1, \n",
    "    'glove compartment':1,\n",
    "    'dual tone dashboard': 1,\n",
    "    'adjustable steering': 1,\n",
    "    'fabric upholstery': 1, \n",
    "    'digital clock': 1,\n",
    "    'power windows rear': 1, \n",
    "    'remote trunk opener':1, \n",
    "    'remote fuel lid opener': 1,\n",
    "    'low fuel warning light': 1,\n",
    "    'accessory power outlet':1, \n",
    "    'vanity mirror':1, \n",
    "    'rear seat headrest':1,\n",
    "    'cup holders front':1\n",
    "}\n",
    "import ast \n",
    "def computeScore(values):\n",
    "    score = 0\n",
    "    org =  ast.literal_eval(values)\n",
    "    for index, val in enumerate(org):\n",
    "        if val in feature_weight:\n",
    "           score += feature_weight.get(val, 0)\n",
    "    return score\n",
    "\n",
    "\t\t\t\t\n",
    "\n",
    "\n",
    "df['feature_score'] = df['comfort_features'].apply(computeScore) +  df['interior_features'].apply(computeScore) + \\\n",
    "df['exterior_features'].apply(computeScore) + +  df['safety_features'].apply(computeScore)"
   ]
  },
  {
   "cell_type": "code",
   "execution_count": 119,
   "id": "aff2f85e-3c2d-4219-9d8f-978383f06554",
   "metadata": {},
   "outputs": [],
   "source": [
    "df['feature_score'].head()\n",
    "df.drop(columns=['comfort_features', 'interior_features', 'exterior_features', 'safety_features' ], inplace=True)"
   ]
  },
  {
   "cell_type": "code",
   "execution_count": 121,
   "id": "e016b3b3-f2e8-4ab1-9967-97f22efe08e3",
   "metadata": {},
   "outputs": [
    {
     "name": "stdout",
     "output_type": "stream",
     "text": [
      "<class 'pandas.core.frame.DataFrame'>\n",
      "RangeIndex: 37813 entries, 0 to 37812\n",
      "Data columns (total 41 columns):\n",
      " #   Column                Non-Null Count  Dtype  \n",
      "---  ------                --------------  -----  \n",
      " 0   myear                 37813 non-null  int64  \n",
      " 1   body                  37813 non-null  object \n",
      " 2   transmission          37813 non-null  object \n",
      " 3   fuel                  37813 non-null  object \n",
      " 4   km                    37813 non-null  float64\n",
      " 5   ip                    37813 non-null  int64  \n",
      " 6   threesixty            37813 non-null  bool   \n",
      " 7   oem                   37813 non-null  object \n",
      " 8   model                 37813 non-null  object \n",
      " 9   variant               37813 non-null  object \n",
      " 10  selling_price         37813 non-null  float64\n",
      " 11  utype                 37813 non-null  object \n",
      " 12  carType               37813 non-null  object \n",
      " 13  color                 37813 non-null  object \n",
      " 14  engine_type           37813 non-null  object \n",
      " 15  no_of_cylinder        37813 non-null  object \n",
      " 16  valves_per_cylinder   37813 non-null  object \n",
      " 17  turbo_charger         37813 non-null  bool   \n",
      " 18  super_charger         37813 non-null  bool   \n",
      " 19  wheel_base            37813 non-null  object \n",
      " 20  front_tread           37813 non-null  object \n",
      " 21  rear_tread            37813 non-null  object \n",
      " 22  kerb_weight           37813 non-null  object \n",
      " 23  gross_weight          37813 non-null  object \n",
      " 24  gear_box              37813 non-null  object \n",
      " 25  seats                 37813 non-null  object \n",
      " 26  steering_type         37813 non-null  object \n",
      " 27  turning_radius        37813 non-null  object \n",
      " 28  front_brake_type      37813 non-null  object \n",
      " 29  rear_brake_type       37813 non-null  object \n",
      " 30  top_speed             37813 non-null  object \n",
      " 31  acceleration          37813 non-null  object \n",
      " 32  tyre_type             37813 non-null  object \n",
      " 33  doors                 37813 non-null  object \n",
      " 34  cargo_volume          37813 non-null  object \n",
      " 35  model_type_new        37813 non-null  object \n",
      " 36  exterior_color        37813 non-null  object \n",
      " 37  owner_type            37813 non-null  object \n",
      " 38  max_power_delivered   37813 non-null  object \n",
      " 39  max_torque_delivered  37813 non-null  object \n",
      " 40  feature_score         37813 non-null  int64  \n",
      "dtypes: bool(3), float64(2), int64(3), object(33)\n",
      "memory usage: 11.1+ MB\n"
     ]
    }
   ],
   "source": [
    "df.info()\n",
    "# saving to csv\n",
    "# df.to_csv(\"cleaned_cars_dekho.csv\", index=False)"
   ]
  },
  {
   "cell_type": "code",
   "execution_count": 123,
   "id": "ac0c7e55-7c08-4556-b035-f966e2bbebf7",
   "metadata": {},
   "outputs": [
    {
     "name": "stdout",
     "output_type": "stream",
     "text": [
      "<class 'pandas.core.frame.DataFrame'>\n",
      "RangeIndex: 37813 entries, 0 to 37812\n",
      "Data columns (total 41 columns):\n",
      " #   Column                Non-Null Count  Dtype  \n",
      "---  ------                --------------  -----  \n",
      " 0   myear                 37813 non-null  int64  \n",
      " 1   body                  37813 non-null  object \n",
      " 2   transmission          37813 non-null  object \n",
      " 3   fuel                  37813 non-null  object \n",
      " 4   km                    37813 non-null  float64\n",
      " 5   ip                    37813 non-null  int64  \n",
      " 6   threesixty            37813 non-null  bool   \n",
      " 7   oem                   37813 non-null  object \n",
      " 8   model                 37813 non-null  object \n",
      " 9   variant               37813 non-null  object \n",
      " 10  selling_price         37813 non-null  float64\n",
      " 11  utype                 37813 non-null  object \n",
      " 12  carType               37813 non-null  object \n",
      " 13  color                 37813 non-null  object \n",
      " 14  engine_type           37813 non-null  object \n",
      " 15  no_of_cylinder        37813 non-null  int32  \n",
      " 16  valves_per_cylinder   37813 non-null  int32  \n",
      " 17  turbo_charger         37813 non-null  bool   \n",
      " 18  super_charger         37813 non-null  bool   \n",
      " 19  wheel_base            37813 non-null  int32  \n",
      " 20  front_tread           37813 non-null  int32  \n",
      " 21  rear_tread            37813 non-null  int32  \n",
      " 22  kerb_weight           37813 non-null  int32  \n",
      " 23  gross_weight          37813 non-null  int32  \n",
      " 24  gear_box              37813 non-null  object \n",
      " 25  seats                 37813 non-null  int32  \n",
      " 26  steering_type         37813 non-null  object \n",
      " 27  turning_radius        37813 non-null  float64\n",
      " 28  front_brake_type      37813 non-null  object \n",
      " 29  rear_brake_type       37813 non-null  object \n",
      " 30  top_speed             37813 non-null  int32  \n",
      " 31  acceleration          37813 non-null  float64\n",
      " 32  tyre_type             37813 non-null  object \n",
      " 33  doors                 37813 non-null  int32  \n",
      " 34  cargo_volume          37813 non-null  int32  \n",
      " 35  model_type_new        37813 non-null  object \n",
      " 36  exterior_color        37813 non-null  object \n",
      " 37  owner_type            37813 non-null  object \n",
      " 38  max_power_delivered   37813 non-null  float64\n",
      " 39  max_torque_delivered  37813 non-null  float64\n",
      " 40  feature_score         37813 non-null  int64  \n",
      "dtypes: bool(3), float64(6), int32(11), int64(3), object(18)\n",
      "memory usage: 9.5+ MB\n",
      "None\n"
     ]
    }
   ],
   "source": [
    "# List of columns to convert\n",
    "numeric_columns = [\n",
    "    'no_of_cylinder', 'valves_per_cylinder', 'wheel_base', 'front_tread', 'rear_tread',\n",
    "    'kerb_weight', 'gross_weight', 'seats', 'top_speed', 'doors', 'cargo_volume'\n",
    "]\n",
    "\n",
    "# Convert columns to numeric (handling errors safely)\n",
    "df[numeric_columns] = df[numeric_columns].apply(pd.to_numeric, errors='coerce').fillna(0).astype(int)\n",
    "\n",
    "float_column = ['turning_radius','acceleration','max_power_delivered','max_torque_delivered']\n",
    "df[float_column] = df[float_column].apply(pd.to_numeric, errors='coerce')\n",
    "\n",
    "print(df.info())\n"
   ]
  },
  {
   "cell_type": "code",
   "execution_count": 137,
   "id": "aa1a79fd-fcd3-42c7-acf8-ea482216f727",
   "metadata": {},
   "outputs": [
    {
     "name": "stdout",
     "output_type": "stream",
     "text": [
      "<class 'pandas.core.frame.DataFrame'>\n",
      "RangeIndex: 37813 entries, 0 to 37812\n",
      "Data columns (total 41 columns):\n",
      " #   Column                Non-Null Count  Dtype  \n",
      "---  ------                --------------  -----  \n",
      " 0   myear                 37813 non-null  int64  \n",
      " 1   body                  37813 non-null  object \n",
      " 2   transmission          37813 non-null  object \n",
      " 3   fuel                  37813 non-null  object \n",
      " 4   km                    37813 non-null  float64\n",
      " 5   ip                    37813 non-null  int64  \n",
      " 6   threesixty            37813 non-null  bool   \n",
      " 7   oem                   37813 non-null  object \n",
      " 8   model                 37813 non-null  object \n",
      " 9   variant               37813 non-null  object \n",
      " 10  selling_price         37813 non-null  float64\n",
      " 11  utype                 37813 non-null  object \n",
      " 12  carType               37813 non-null  object \n",
      " 13  color                 37813 non-null  object \n",
      " 14  engine_type           37813 non-null  object \n",
      " 15  no_of_cylinder        37813 non-null  int32  \n",
      " 16  valves_per_cylinder   37813 non-null  int32  \n",
      " 17  turbo_charger         37813 non-null  bool   \n",
      " 18  super_charger         37813 non-null  bool   \n",
      " 19  wheel_base            37813 non-null  int32  \n",
      " 20  front_tread           37813 non-null  int32  \n",
      " 21  rear_tread            37813 non-null  int32  \n",
      " 22  kerb_weight           37813 non-null  int32  \n",
      " 23  gross_weight          37813 non-null  int32  \n",
      " 24  gear_box              37813 non-null  object \n",
      " 25  seats                 37813 non-null  int32  \n",
      " 26  steering_type         37813 non-null  object \n",
      " 27  turning_radius        37813 non-null  float64\n",
      " 28  front_brake_type      37813 non-null  object \n",
      " 29  rear_brake_type       37813 non-null  object \n",
      " 30  top_speed             37813 non-null  int32  \n",
      " 31  acceleration          37813 non-null  float64\n",
      " 32  tyre_type             37813 non-null  object \n",
      " 33  doors                 37813 non-null  int32  \n",
      " 34  cargo_volume          37813 non-null  int32  \n",
      " 35  model_type_new        37813 non-null  object \n",
      " 36  exterior_color        37813 non-null  object \n",
      " 37  owner_type            37813 non-null  object \n",
      " 38  max_power_delivered   37813 non-null  float64\n",
      " 39  max_torque_delivered  37813 non-null  float64\n",
      " 40  feature_score         37813 non-null  int64  \n",
      "dtypes: bool(3), float64(6), int32(11), int64(3), object(18)\n",
      "memory usage: 9.5+ MB\n",
      "None\n"
     ]
    }
   ],
   "source": [
    "string_columns = [\n",
    "    'body', 'transmission', 'fuel', 'oem', 'model', 'variant', 'utype', 'carType', \n",
    "    'color', 'engine_type', 'steering_type', 'front_brake_type', 'rear_brake_type', \n",
    "    'tyre_type', 'model_type_new', 'exterior_color', 'owner_type'\n",
    "]\n",
    "\n",
    "\n",
    "# df[string_columns] = df[string_columns].astype(\"string\")\n",
    "df[string_columns] = df[string_columns].astype(str)\n",
    "print(df.info())"
   ]
  },
  {
   "cell_type": "code",
   "execution_count": 139,
   "id": "781ebf4c-d5f8-4b5a-a308-2085c98de50d",
   "metadata": {},
   "outputs": [],
   "source": [
    "# saving to csv\n",
    "df.to_csv(\"cleaned_cars_dekho.csv\", index=False)"
   ]
  },
  {
   "cell_type": "code",
   "execution_count": 152,
   "id": "fa0ddbc8-31d8-4592-a80e-f47b6b6c8a72",
   "metadata": {},
   "outputs": [
    {
     "name": "stdout",
     "output_type": "stream",
     "text": [
      "['myear', 'km', 'ip', 'threesixty', 'selling_price', 'no_of_cylinder', 'valves_per_cylinder', 'turbo_charger', 'super_charger', 'wheel_base', 'front_tread', 'rear_tread', 'kerb_weight', 'gross_weight', 'seats', 'turning_radius', 'top_speed', 'acceleration', 'doors', 'cargo_volume', 'max_power_delivered', 'max_torque_delivered', 'feature_score']\n",
      "Index(['body', 'transmission', 'fuel', 'oem', 'model', 'variant', 'utype',\n",
      "       'carType', 'color', 'engine_type', 'gear_box', 'steering_type',\n",
      "       'front_brake_type', 'rear_brake_type', 'tyre_type', 'model_type_new',\n",
      "       'exterior_color', 'owner_type'],\n",
      "      dtype='object')\n"
     ]
    }
   ],
   "source": [
    "# catrgorical variables\n",
    "# Create Column Transformer with 3 types of transformers\n",
    "numerical_features = df.select_dtypes(exclude=\"object\").columns\n",
    "categorical_features = df.select_dtypes(include=\"object\").columns\n",
    "\n",
    "print(numeric_features)\n",
    "print(categorical_features)"
   ]
  },
  {
   "cell_type": "code",
   "execution_count": null,
   "id": "3601a4a4-59f5-476c-b8f3-ccf24d665612",
   "metadata": {},
   "outputs": [],
   "source": []
  },
  {
   "cell_type": "code",
   "execution_count": null,
   "id": "ff82a5fa-7c7d-4c67-b826-41f67e4cf9e1",
   "metadata": {},
   "outputs": [],
   "source": []
  },
  {
   "cell_type": "code",
   "execution_count": null,
   "id": "1e218af1-78e4-47f7-8d7a-a8b011221306",
   "metadata": {},
   "outputs": [],
   "source": []
  },
  {
   "cell_type": "code",
   "execution_count": null,
   "id": "a8fa3be8-cab8-4695-a45c-e309cc77cedb",
   "metadata": {},
   "outputs": [],
   "source": []
  }
 ],
 "metadata": {
  "kernelspec": {
   "display_name": "Python 3 (ipykernel)",
   "language": "python",
   "name": "python3"
  },
  "language_info": {
   "codemirror_mode": {
    "name": "ipython",
    "version": 3
   },
   "file_extension": ".py",
   "mimetype": "text/x-python",
   "name": "python",
   "nbconvert_exporter": "python",
   "pygments_lexer": "ipython3",
   "version": "3.12.4"
  }
 },
 "nbformat": 4,
 "nbformat_minor": 5
}
