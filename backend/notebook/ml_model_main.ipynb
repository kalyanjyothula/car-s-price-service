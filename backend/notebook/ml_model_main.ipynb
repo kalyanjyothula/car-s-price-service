{
 "cells": [
  {
   "cell_type": "code",
   "execution_count": 183,
   "id": "9b6baa31-890d-44ee-8ac8-d9992b7f39f9",
   "metadata": {},
   "outputs": [],
   "source": [
    "import numpy as np\n",
    "import pandas as pd\n",
    "import matplotlib.pyplot as plt \n",
    "import seaborn as sns\n",
    "# Modelling\n",
    "from sklearn.metrics import mean_squared_error, r2_score\n",
    "from sklearn.neighbors import KNeighborsRegressor\n",
    "from sklearn.tree import DecisionTreeRegressor\n",
    "from sklearn.ensemble import RandomForestRegressor,AdaBoostRegressor\n",
    "from sklearn.svm import SVR\n",
    "from sklearn.linear_model import LinearRegression, Ridge,Lasso\n",
    "from sklearn.metrics import r2_score, mean_absolute_error, mean_squared_error\n",
    "from sklearn.model_selection import RandomizedSearchCV\n",
    "import warnings"
   ]
  },
  {
   "cell_type": "code",
   "execution_count": 25,
   "id": "a4b30766-c9c9-415c-87e4-9281f2c3bb2a",
   "metadata": {},
   "outputs": [
    {
     "name": "stdout",
     "output_type": "stream",
     "text": [
      "Collecting catboost\n",
      "  Using cached catboost-1.2.7-cp312-cp312-win_amd64.whl.metadata (1.2 kB)\n",
      "Collecting xgboost\n",
      "  Downloading xgboost-3.0.0-py3-none-win_amd64.whl.metadata (2.1 kB)\n",
      "Collecting graphviz (from catboost)\n",
      "  Using cached graphviz-0.20.3-py3-none-any.whl.metadata (12 kB)\n",
      "Requirement already satisfied: matplotlib in c:\\users\\dell\\anaconda3\\lib\\site-packages (from catboost) (3.8.4)\n",
      "Requirement already satisfied: numpy<2.0,>=1.16.0 in c:\\users\\dell\\anaconda3\\lib\\site-packages (from catboost) (1.26.4)\n",
      "Requirement already satisfied: pandas>=0.24 in c:\\users\\dell\\anaconda3\\lib\\site-packages (from catboost) (2.2.2)\n",
      "Requirement already satisfied: scipy in c:\\users\\dell\\anaconda3\\lib\\site-packages (from catboost) (1.13.1)\n",
      "Requirement already satisfied: plotly in c:\\users\\dell\\anaconda3\\lib\\site-packages (from catboost) (5.22.0)\n",
      "Requirement already satisfied: six in c:\\users\\dell\\anaconda3\\lib\\site-packages (from catboost) (1.16.0)\n",
      "Requirement already satisfied: python-dateutil>=2.8.2 in c:\\users\\dell\\anaconda3\\lib\\site-packages (from pandas>=0.24->catboost) (2.9.0.post0)\n",
      "Requirement already satisfied: pytz>=2020.1 in c:\\users\\dell\\anaconda3\\lib\\site-packages (from pandas>=0.24->catboost) (2024.1)\n",
      "Requirement already satisfied: tzdata>=2022.7 in c:\\users\\dell\\anaconda3\\lib\\site-packages (from pandas>=0.24->catboost) (2023.3)\n",
      "Requirement already satisfied: contourpy>=1.0.1 in c:\\users\\dell\\anaconda3\\lib\\site-packages (from matplotlib->catboost) (1.2.0)\n",
      "Requirement already satisfied: cycler>=0.10 in c:\\users\\dell\\anaconda3\\lib\\site-packages (from matplotlib->catboost) (0.11.0)\n",
      "Requirement already satisfied: fonttools>=4.22.0 in c:\\users\\dell\\anaconda3\\lib\\site-packages (from matplotlib->catboost) (4.51.0)\n",
      "Requirement already satisfied: kiwisolver>=1.3.1 in c:\\users\\dell\\anaconda3\\lib\\site-packages (from matplotlib->catboost) (1.4.4)\n",
      "Requirement already satisfied: packaging>=20.0 in c:\\users\\dell\\anaconda3\\lib\\site-packages (from matplotlib->catboost) (23.2)\n",
      "Requirement already satisfied: pillow>=8 in c:\\users\\dell\\anaconda3\\lib\\site-packages (from matplotlib->catboost) (10.3.0)\n",
      "Requirement already satisfied: pyparsing>=2.3.1 in c:\\users\\dell\\anaconda3\\lib\\site-packages (from matplotlib->catboost) (3.0.9)\n",
      "Requirement already satisfied: tenacity>=6.2.0 in c:\\users\\dell\\anaconda3\\lib\\site-packages (from plotly->catboost) (8.2.2)\n",
      "Using cached catboost-1.2.7-cp312-cp312-win_amd64.whl (101.7 MB)\n",
      "Downloading xgboost-3.0.0-py3-none-win_amd64.whl (150.0 MB)\n",
      "   ---------------------------------------- 0.0/150.0 MB ? eta -:--:--\n",
      "   ---------------------------------------- 0.0/150.0 MB ? eta -:--:--\n",
      "   ---------------------------------------- 0.0/150.0 MB ? eta -:--:--\n",
      "   ---------------------------------------- 0.0/150.0 MB 330.3 kB/s eta 0:07:34\n",
      "   ---------------------------------------- 0.1/150.0 MB 731.4 kB/s eta 0:03:25\n",
      "   ---------------------------------------- 0.2/150.0 MB 985.7 kB/s eta 0:02:32\n",
      "   ---------------------------------------- 0.3/150.0 MB 1.2 MB/s eta 0:02:03\n",
      "   ---------------------------------------- 0.4/150.0 MB 1.4 MB/s eta 0:01:48\n",
      "   ---------------------------------------- 0.4/150.0 MB 1.4 MB/s eta 0:01:49\n",
      "   ---------------------------------------- 0.7/150.0 MB 2.1 MB/s eta 0:01:13\n",
      "   ---------------------------------------- 0.9/150.0 MB 2.5 MB/s eta 0:01:00\n",
      "   ---------------------------------------- 1.6/150.0 MB 3.7 MB/s eta 0:00:41\n",
      "    --------------------------------------- 2.2/150.0 MB 4.6 MB/s eta 0:00:33\n",
      "    --------------------------------------- 3.1/150.0 MB 6.2 MB/s eta 0:00:24\n",
      "   - -------------------------------------- 3.9/150.0 MB 7.0 MB/s eta 0:00:21\n",
      "   - -------------------------------------- 4.8/150.0 MB 8.3 MB/s eta 0:00:18\n",
      "   - -------------------------------------- 5.3/150.0 MB 8.7 MB/s eta 0:00:17\n",
      "   - -------------------------------------- 6.3/150.0 MB 9.3 MB/s eta 0:00:16\n",
      "   - -------------------------------------- 6.9/150.0 MB 9.6 MB/s eta 0:00:15\n",
      "   -- ------------------------------------- 7.6/150.0 MB 10.2 MB/s eta 0:00:14\n",
      "   -- ------------------------------------- 8.5/150.0 MB 10.7 MB/s eta 0:00:14\n",
      "   -- ------------------------------------- 9.3/150.0 MB 11.2 MB/s eta 0:00:13\n",
      "   -- ------------------------------------- 10.2/150.0 MB 11.5 MB/s eta 0:00:13\n",
      "   --- ------------------------------------ 11.5/150.0 MB 19.8 MB/s eta 0:00:07\n",
      "   --- ------------------------------------ 12.5/150.0 MB 20.5 MB/s eta 0:00:07\n",
      "   --- ------------------------------------ 13.2/150.0 MB 19.9 MB/s eta 0:00:07\n",
      "   --- ------------------------------------ 14.5/150.0 MB 20.5 MB/s eta 0:00:07\n",
      "   ---- ----------------------------------- 15.3/150.0 MB 21.1 MB/s eta 0:00:07\n",
      "   ---- ----------------------------------- 16.5/150.0 MB 21.9 MB/s eta 0:00:07\n",
      "   ---- ----------------------------------- 17.5/150.0 MB 24.2 MB/s eta 0:00:06\n",
      "   ---- ----------------------------------- 18.7/150.0 MB 24.3 MB/s eta 0:00:06\n",
      "   ----- ---------------------------------- 19.9/150.0 MB 25.2 MB/s eta 0:00:06\n",
      "   ----- ---------------------------------- 20.8/150.0 MB 25.2 MB/s eta 0:00:06\n",
      "   ----- ---------------------------------- 21.9/150.0 MB 25.2 MB/s eta 0:00:06\n",
      "   ------ --------------------------------- 22.7/150.0 MB 24.2 MB/s eta 0:00:06\n",
      "   ------ --------------------------------- 24.1/150.0 MB 27.3 MB/s eta 0:00:05\n",
      "   ------ --------------------------------- 25.4/150.0 MB 28.4 MB/s eta 0:00:05\n",
      "   ------- -------------------------------- 26.7/150.0 MB 27.3 MB/s eta 0:00:05\n",
      "   ------- -------------------------------- 27.9/150.0 MB 29.7 MB/s eta 0:00:05\n",
      "   ------- -------------------------------- 29.0/150.0 MB 28.4 MB/s eta 0:00:05\n",
      "   ------- -------------------------------- 29.5/150.0 MB 27.3 MB/s eta 0:00:05\n",
      "   -------- ------------------------------- 30.9/150.0 MB 28.5 MB/s eta 0:00:05\n",
      "   -------- ------------------------------- 32.3/150.0 MB 29.7 MB/s eta 0:00:04\n",
      "   -------- ------------------------------- 33.3/150.0 MB 29.7 MB/s eta 0:00:04\n",
      "   --------- ------------------------------ 34.9/150.0 MB 29.7 MB/s eta 0:00:04\n",
      "   --------- ------------------------------ 36.3/150.0 MB 29.7 MB/s eta 0:00:04\n",
      "   ---------- ----------------------------- 37.9/150.0 MB 29.7 MB/s eta 0:00:04\n",
      "   ---------- ----------------------------- 39.0/150.0 MB 29.7 MB/s eta 0:00:04\n",
      "   ---------- ----------------------------- 40.3/150.0 MB 34.4 MB/s eta 0:00:04\n",
      "   ----------- ---------------------------- 42.1/150.0 MB 34.4 MB/s eta 0:00:04\n",
      "   ----------- ---------------------------- 43.8/150.0 MB 36.4 MB/s eta 0:00:03\n",
      "   ----------- ---------------------------- 44.7/150.0 MB 36.4 MB/s eta 0:00:03\n",
      "   ------------ --------------------------- 45.9/150.0 MB 34.4 MB/s eta 0:00:04\n",
      "   ------------ --------------------------- 47.7/150.0 MB 32.7 MB/s eta 0:00:04\n",
      "   ------------- -------------------------- 49.3/150.0 MB 34.6 MB/s eta 0:00:03\n",
      "   ------------- -------------------------- 49.9/150.0 MB 29.8 MB/s eta 0:00:04\n",
      "   ------------- -------------------------- 51.6/150.0 MB 28.4 MB/s eta 0:00:04\n",
      "   -------------- ------------------------- 53.3/150.0 MB 28.4 MB/s eta 0:00:04\n",
      "   -------------- ------------------------- 54.8/150.0 MB 29.7 MB/s eta 0:00:04\n",
      "   --------------- ------------------------ 56.5/150.0 MB 29.7 MB/s eta 0:00:04\n",
      "   --------------- ------------------------ 57.8/150.0 MB 29.7 MB/s eta 0:00:04\n",
      "   --------------- ------------------------ 59.1/150.0 MB 29.7 MB/s eta 0:00:04\n",
      "   --------------- ------------------------ 59.3/150.0 MB 26.2 MB/s eta 0:00:04\n",
      "   ---------------- ----------------------- 60.5/150.0 MB 27.3 MB/s eta 0:00:04\n",
      "   ---------------- ----------------------- 62.2/150.0 MB 27.3 MB/s eta 0:00:04\n",
      "   ----------------- ---------------------- 63.8/150.0 MB 27.3 MB/s eta 0:00:04\n",
      "   ----------------- ---------------------- 65.0/150.0 MB 26.2 MB/s eta 0:00:04\n",
      "   ----------------- ---------------------- 66.6/150.0 MB 26.2 MB/s eta 0:00:04\n",
      "   ------------------ --------------------- 67.9/150.0 MB 26.2 MB/s eta 0:00:04\n",
      "   ------------------ --------------------- 69.2/150.0 MB 27.3 MB/s eta 0:00:03\n",
      "   ------------------ --------------------- 71.0/150.0 MB 32.8 MB/s eta 0:00:03\n",
      "   ------------------- -------------------- 72.7/150.0 MB 32.8 MB/s eta 0:00:03\n",
      "   ------------------- -------------------- 74.9/150.0 MB 36.4 MB/s eta 0:00:03\n",
      "   -------------------- ------------------- 77.1/150.0 MB 40.9 MB/s eta 0:00:02\n",
      "   --------------------- ------------------ 79.0/150.0 MB 40.9 MB/s eta 0:00:02\n",
      "   --------------------- ------------------ 80.8/150.0 MB 40.9 MB/s eta 0:00:02\n",
      "   ---------------------- ----------------- 82.6/150.0 MB 43.7 MB/s eta 0:00:02\n",
      "   ---------------------- ----------------- 84.2/150.0 MB 46.9 MB/s eta 0:00:02\n",
      "   ---------------------- ----------------- 85.8/150.0 MB 40.9 MB/s eta 0:00:02\n",
      "   ----------------------- ---------------- 87.5/150.0 MB 43.7 MB/s eta 0:00:02\n",
      "   ----------------------- ---------------- 89.2/150.0 MB 40.9 MB/s eta 0:00:02\n",
      "   ------------------------ --------------- 91.1/150.0 MB 40.9 MB/s eta 0:00:02\n",
      "   ------------------------ --------------- 93.3/150.0 MB 40.9 MB/s eta 0:00:02\n",
      "   ------------------------- -------------- 95.5/150.0 MB 40.9 MB/s eta 0:00:02\n",
      "   ------------------------- -------------- 97.4/150.0 MB 43.7 MB/s eta 0:00:02\n",
      "   -------------------------- ------------- 99.6/150.0 MB 43.7 MB/s eta 0:00:02\n",
      "   -------------------------- ------------ 101.5/150.0 MB 43.7 MB/s eta 0:00:02\n",
      "   -------------------------- ------------ 103.3/150.0 MB 43.7 MB/s eta 0:00:02\n",
      "   --------------------------- ----------- 105.2/150.0 MB 46.9 MB/s eta 0:00:01\n",
      "   --------------------------- ----------- 107.2/150.0 MB 46.7 MB/s eta 0:00:01\n",
      "   ---------------------------- ---------- 109.1/150.0 MB 46.7 MB/s eta 0:00:01\n",
      "   ---------------------------- ---------- 111.2/150.0 MB 46.7 MB/s eta 0:00:01\n",
      "   ----------------------------- --------- 113.2/150.0 MB 40.9 MB/s eta 0:00:01\n",
      "   ----------------------------- --------- 114.9/150.0 MB 38.6 MB/s eta 0:00:01\n",
      "   ------------------------------ -------- 116.5/150.0 MB 38.6 MB/s eta 0:00:01\n",
      "   ------------------------------ -------- 118.7/150.0 MB 38.5 MB/s eta 0:00:01\n",
      "   ------------------------------- ------- 120.4/150.0 MB 36.3 MB/s eta 0:00:01\n",
      "   ------------------------------- ------- 122.3/150.0 MB 38.5 MB/s eta 0:00:01\n",
      "   -------------------------------- ------ 124.5/150.0 MB 40.9 MB/s eta 0:00:01\n",
      "   -------------------------------- ------ 126.3/150.0 MB 43.7 MB/s eta 0:00:01\n",
      "   --------------------------------- ----- 128.2/150.0 MB 46.7 MB/s eta 0:00:01\n",
      "   --------------------------------- ----- 130.2/150.0 MB 43.7 MB/s eta 0:00:01\n",
      "   ---------------------------------- ---- 131.8/150.0 MB 46.7 MB/s eta 0:00:01\n",
      "   ---------------------------------- ---- 133.4/150.0 MB 43.7 MB/s eta 0:00:01\n",
      "   ----------------------------------- --- 134.7/150.0 MB 40.9 MB/s eta 0:00:01\n",
      "   ----------------------------------- --- 135.7/150.0 MB 38.5 MB/s eta 0:00:01\n",
      "   ----------------------------------- --- 137.7/150.0 MB 34.4 MB/s eta 0:00:01\n",
      "   ------------------------------------ -- 139.2/150.0 MB 36.4 MB/s eta 0:00:01\n",
      "   ------------------------------------ -- 140.8/150.0 MB 36.3 MB/s eta 0:00:01\n",
      "   ------------------------------------ -- 142.2/150.0 MB 32.8 MB/s eta 0:00:01\n",
      "   ------------------------------------- - 144.1/150.0 MB 32.7 MB/s eta 0:00:01\n",
      "   ------------------------------------- - 146.0/150.0 MB 38.5 MB/s eta 0:00:01\n",
      "   --------------------------------------  147.2/150.0 MB 36.3 MB/s eta 0:00:01\n",
      "   --------------------------------------  148.6/150.0 MB 34.4 MB/s eta 0:00:01\n",
      "   --------------------------------------  149.9/150.0 MB 32.8 MB/s eta 0:00:01\n",
      "   --------------------------------------  150.0/150.0 MB 32.8 MB/s eta 0:00:01\n",
      "   --------------------------------------  150.0/150.0 MB 32.8 MB/s eta 0:00:01\n",
      "   --------------------------------------  150.0/150.0 MB 32.8 MB/s eta 0:00:01\n",
      "   --------------------------------------  150.0/150.0 MB 32.8 MB/s eta 0:00:01\n",
      "   --------------------------------------  150.0/150.0 MB 32.8 MB/s eta 0:00:01\n",
      "   --------------------------------------  150.0/150.0 MB 32.8 MB/s eta 0:00:01\n",
      "   --------------------------------------  150.0/150.0 MB 32.8 MB/s eta 0:00:01\n",
      "   --------------------------------------  150.0/150.0 MB 32.8 MB/s eta 0:00:01\n",
      "   --------------------------------------  150.0/150.0 MB 32.8 MB/s eta 0:00:01\n",
      "   --------------------------------------  150.0/150.0 MB 32.8 MB/s eta 0:00:01\n",
      "   --------------------------------------  150.0/150.0 MB 32.8 MB/s eta 0:00:01\n",
      "   --------------------------------------  150.0/150.0 MB 32.8 MB/s eta 0:00:01\n",
      "   --------------------------------------  150.0/150.0 MB 32.8 MB/s eta 0:00:01\n",
      "   --------------------------------------  150.0/150.0 MB 32.8 MB/s eta 0:00:01\n",
      "   --------------------------------------- 150.0/150.0 MB 11.5 MB/s eta 0:00:00\n",
      "Using cached graphviz-0.20.3-py3-none-any.whl (47 kB)\n",
      "Installing collected packages: graphviz, xgboost, catboost\n",
      "Successfully installed catboost-1.2.7 graphviz-0.20.3 xgboost-3.0.0\n"
     ]
    }
   ],
   "source": [
    "!pip install catboost xgboost\n"
   ]
  },
  {
   "cell_type": "code",
   "execution_count": 185,
   "id": "95116c80-1c6e-4163-8714-8e9d38fe439f",
   "metadata": {},
   "outputs": [],
   "source": [
    "from catboost import CatBoostRegressor\n",
    "from xgboost import XGBRegressor"
   ]
  },
  {
   "cell_type": "code",
   "execution_count": 251,
   "id": "d934497b-c71b-47e4-9d9f-de74fd3f0263",
   "metadata": {},
   "outputs": [],
   "source": [
    "df = pd.read_csv('cleaned_cars_dekho.csv')"
   ]
  },
  {
   "cell_type": "code",
   "execution_count": 253,
   "id": "112886b1-5e03-41ce-a9a5-6662e78a577c",
   "metadata": {},
   "outputs": [],
   "source": [
    "df['super_charger'] = df['super_charger'].astype(int)"
   ]
  },
  {
   "cell_type": "code",
   "execution_count": 255,
   "id": "5e128b5c-05fe-4cd4-90fb-3b02d28c51bd",
   "metadata": {},
   "outputs": [],
   "source": [
    "df['oem'] = df['oem'].replace('mahindra ssangyong', 'mahindra')\n",
    "df['oem'] = df['oem'].replace('mahindra renault', 'mahindra')"
   ]
  },
  {
   "cell_type": "code",
   "execution_count": 257,
   "id": "a015ba09-1828-4561-bae5-e397bd3f6e0b",
   "metadata": {},
   "outputs": [],
   "source": [
    "# To remove extrem outliers\n",
    "Q1 = df['selling_price'].quantile(0.25)\n",
    "Q3 = df['selling_price'].quantile(0.75)\n",
    "IQR = Q3 - Q1\n",
    "lower_bound = Q1 - 1.5 * IQR\n",
    "upper_bound = Q3 + 1.5 * IQR\n",
    "\n",
    "df = df[(df['selling_price'] >= lower_bound) & (df['selling_price'] <= upper_bound)]"
   ]
  },
  {
   "cell_type": "code",
   "execution_count": 259,
   "id": "c0753e3a-ac4c-43be-9297-0bac66274159",
   "metadata": {},
   "outputs": [
    {
     "data": {
      "text/plain": [
       "(34564, 41)"
      ]
     },
     "execution_count": 259,
     "metadata": {},
     "output_type": "execute_result"
    }
   ],
   "source": [
    "df.shape"
   ]
  },
  {
   "cell_type": "code",
   "execution_count": 261,
   "id": "a1d39d6f-1365-4ad2-ac75-3263340b28df",
   "metadata": {},
   "outputs": [],
   "source": [
    "\n",
    "X = df[[\"myear\",\n",
    "\"oem\",\n",
    "\"model\",\n",
    "\"gear_box\",\n",
    "\"seats\",\n",
    "\"steering_type\",\n",
    "\"no_of_cylinder\",\n",
    "\"super_charger\",\n",
    "\"top_speed\",\n",
    "\"max_power_delivered\",\n",
    "\"max_torque_delivered\",\n",
    "\"feature_score\"]]"
   ]
  },
  {
   "cell_type": "code",
   "execution_count": 263,
   "id": "9b093194-3259-4d3f-84d8-d97e285fe682",
   "metadata": {},
   "outputs": [
    {
     "data": {
      "text/plain": [
       "(34564, 12)"
      ]
     },
     "execution_count": 263,
     "metadata": {},
     "output_type": "execute_result"
    }
   ],
   "source": [
    "X.head()\n",
    "X.shape"
   ]
  },
  {
   "cell_type": "code",
   "execution_count": 265,
   "id": "26f75f59-4096-43ed-bc31-c08b59d18ea0",
   "metadata": {},
   "outputs": [
    {
     "data": {
      "text/plain": [
       "(34564, 1)"
      ]
     },
     "execution_count": 265,
     "metadata": {},
     "output_type": "execute_result"
    }
   ],
   "source": [
    "y = df[['selling_price']]\n",
    "y.head()\n",
    "y.shape"
   ]
  },
  {
   "cell_type": "code",
   "execution_count": 267,
   "id": "832616ad-9478-426a-ab22-2cf956e2fa31",
   "metadata": {},
   "outputs": [
    {
     "name": "stdout",
     "output_type": "stream",
     "text": [
      "Index(['myear', 'seats', 'no_of_cylinder', 'super_charger', 'top_speed',\n",
      "       'max_power_delivered', 'max_torque_delivered', 'feature_score'],\n",
      "      dtype='object') Index(['oem', 'model', 'gear_box', 'steering_type'], dtype='object')\n"
     ]
    }
   ],
   "source": [
    "num_features = X.select_dtypes(exclude=\"object\").columns\n",
    "cat_features = X.select_dtypes(include=['object']).columns\n",
    "print(num_features,cat_features)\n",
    "from sklearn.preprocessing import OneHotEncoder, StandardScaler\n",
    "from sklearn.compose import ColumnTransformer\n",
    "\n",
    "numeric_transformer = StandardScaler()\n",
    "oh_transformer = OneHotEncoder()\n",
    "\n",
    "preprocessor = ColumnTransformer(\n",
    "    [\n",
    "        (\"OneHotEncoder\", oh_transformer, cat_features),\n",
    "         (\"StandardScaler\", numeric_transformer, num_features),        \n",
    "    ]\n",
    ")"
   ]
  },
  {
   "cell_type": "code",
   "execution_count": 269,
   "id": "4544f038-a952-46fe-ab8e-bb3d3c1aef7b",
   "metadata": {},
   "outputs": [],
   "source": [
    "newTrainDf =  pd.concat([X, y], axis=1)\n",
    "newTrainDf.to_csv('training_encoded.csv', index=False)"
   ]
  },
  {
   "cell_type": "code",
   "execution_count": 271,
   "id": "eb56b715-6913-41fc-a5d8-737358d3c75e",
   "metadata": {},
   "outputs": [],
   "source": [
    "X = preprocessor.fit_transform(X)\n"
   ]
  },
  {
   "cell_type": "code",
   "execution_count": 273,
   "id": "7ba79c08-a095-4c1e-b247-d6c4e97f0a5c",
   "metadata": {},
   "outputs": [
    {
     "data": {
      "text/plain": [
       "((24194, 352), (10370, 352))"
      ]
     },
     "execution_count": 273,
     "metadata": {},
     "output_type": "execute_result"
    }
   ],
   "source": [
    "# separate dataset into train and test\n",
    "from sklearn.model_selection import train_test_split\n",
    "X_train, X_test, y_train, y_test = train_test_split(X,y,test_size=0.3,random_state=42)\n",
    "X_train.shape, X_test.shape"
   ]
  },
  {
   "cell_type": "code",
   "execution_count": 275,
   "id": "be11f2f1-dff0-4239-bb41-dffbb715e209",
   "metadata": {},
   "outputs": [],
   "source": [
    "def evaluate_model(true, predicted):\n",
    "    mae = mean_absolute_error(true, predicted)\n",
    "    mse = mean_squared_error(true, predicted)\n",
    "    rmse = np.sqrt(mean_squared_error(true, predicted))\n",
    "    r2_square = r2_score(true, predicted)\n",
    "    return mae, rmse, r2_square"
   ]
  },
  {
   "cell_type": "code",
   "execution_count": 277,
   "id": "b5cf9d0e-6690-4bd4-852e-ffbfcc2a3091",
   "metadata": {},
   "outputs": [
    {
     "name": "stdout",
     "output_type": "stream",
     "text": [
      "Linear Regression\n",
      "Model performance for Training set\n",
      "- Root Mean Squared Error: 126905.5721\n",
      "- Mean Absolute Error: 92992.5121\n",
      "- R2 Score: 0.8696\n",
      "----------------------------------\n",
      "Model performance for Test set\n",
      "- Root Mean Squared Error: 130371.3473\n",
      "- Mean Absolute Error: 94609.6274\n",
      "- R2 Score: 0.8637\n",
      "===================================\n",
      "\n",
      "\n"
     ]
    },
    {
     "name": "stderr",
     "output_type": "stream",
     "text": [
      "C:\\Users\\Dell\\anaconda3\\Lib\\site-packages\\sklearn\\linear_model\\_coordinate_descent.py:639: ConvergenceWarning: Objective did not converge. You might want to increase the number of iterations. Duality gap: 79343261123770.4, tolerance: 298813698344.0077\n",
      "  model = cd_fast.sparse_enet_coordinate_descent(\n"
     ]
    },
    {
     "name": "stdout",
     "output_type": "stream",
     "text": [
      "Lasso\n",
      "Model performance for Training set\n",
      "- Root Mean Squared Error: 126912.4565\n",
      "- Mean Absolute Error: 93023.4622\n",
      "- R2 Score: 0.8696\n",
      "----------------------------------\n",
      "Model performance for Test set\n",
      "- Root Mean Squared Error: 130428.8672\n",
      "- Mean Absolute Error: 94578.0218\n",
      "- R2 Score: 0.8636\n",
      "===================================\n",
      "\n",
      "\n",
      "Ridge\n",
      "Model performance for Training set\n",
      "- Root Mean Squared Error: 127287.6328\n",
      "- Mean Absolute Error: 93311.6313\n",
      "- R2 Score: 0.8688\n",
      "----------------------------------\n",
      "Model performance for Test set\n",
      "- Root Mean Squared Error: 130199.7272\n",
      "- Mean Absolute Error: 94487.8685\n",
      "- R2 Score: 0.8640\n",
      "===================================\n",
      "\n",
      "\n",
      "K-Neighbors Regressor\n",
      "Model performance for Training set\n",
      "- Root Mean Squared Error: 99819.8357\n",
      "- Mean Absolute Error: 69806.2570\n",
      "- R2 Score: 0.9193\n",
      "----------------------------------\n",
      "Model performance for Test set\n",
      "- Root Mean Squared Error: 110612.5181\n",
      "- Mean Absolute Error: 77584.4410\n",
      "- R2 Score: 0.9019\n",
      "===================================\n",
      "\n",
      "\n",
      "Decision Tree\n",
      "Model performance for Training set\n",
      "- Root Mean Squared Error: 83820.6710\n",
      "- Mean Absolute Error: 56214.8696\n",
      "- R2 Score: 0.9431\n",
      "----------------------------------\n",
      "Model performance for Test set\n",
      "- Root Mean Squared Error: 112881.8115\n",
      "- Mean Absolute Error: 77600.1678\n",
      "- R2 Score: 0.8978\n",
      "===================================\n",
      "\n",
      "\n"
     ]
    },
    {
     "name": "stderr",
     "output_type": "stream",
     "text": [
      "C:\\Users\\Dell\\anaconda3\\Lib\\site-packages\\sklearn\\base.py:1474: DataConversionWarning: A column-vector y was passed when a 1d array was expected. Please change the shape of y to (n_samples,), for example using ravel().\n",
      "  return fit_method(estimator, *args, **kwargs)\n"
     ]
    },
    {
     "name": "stdout",
     "output_type": "stream",
     "text": [
      "Random Forest Regressor\n",
      "Model performance for Training set\n",
      "- Root Mean Squared Error: 85753.0871\n",
      "- Mean Absolute Error: 59914.3399\n",
      "- R2 Score: 0.9405\n",
      "----------------------------------\n",
      "Model performance for Test set\n",
      "- Root Mean Squared Error: 105882.8095\n",
      "- Mean Absolute Error: 74309.3686\n",
      "- R2 Score: 0.9101\n",
      "===================================\n",
      "\n",
      "\n",
      "XGBRegressor\n",
      "Model performance for Training set\n",
      "- Root Mean Squared Error: 96994.9663\n",
      "- Mean Absolute Error: 69951.5990\n",
      "- R2 Score: 0.9238\n",
      "----------------------------------\n",
      "Model performance for Test set\n",
      "- Root Mean Squared Error: 104594.1460\n",
      "- Mean Absolute Error: 74482.6120\n",
      "- R2 Score: 0.9123\n",
      "===================================\n",
      "\n",
      "\n",
      "CatBoosting Regressor\n",
      "Model performance for Training set\n",
      "- Root Mean Squared Error: 98152.0794\n",
      "- Mean Absolute Error: 71065.7932\n",
      "- R2 Score: 0.9220\n",
      "----------------------------------\n",
      "Model performance for Test set\n",
      "- Root Mean Squared Error: 103531.6285\n",
      "- Mean Absolute Error: 73965.3720\n",
      "- R2 Score: 0.9140\n",
      "===================================\n",
      "\n",
      "\n"
     ]
    },
    {
     "name": "stderr",
     "output_type": "stream",
     "text": [
      "C:\\Users\\Dell\\anaconda3\\Lib\\site-packages\\sklearn\\utils\\validation.py:1300: DataConversionWarning: A column-vector y was passed when a 1d array was expected. Please change the shape of y to (n_samples, ), for example using ravel().\n",
      "  y = column_or_1d(y, warn=True)\n"
     ]
    },
    {
     "name": "stdout",
     "output_type": "stream",
     "text": [
      "AdaBoost Regressor\n",
      "Model performance for Training set\n",
      "- Root Mean Squared Error: 180378.6075\n",
      "- Mean Absolute Error: 143713.2371\n",
      "- R2 Score: 0.7366\n",
      "----------------------------------\n",
      "Model performance for Test set\n",
      "- Root Mean Squared Error: 181416.2995\n",
      "- Mean Absolute Error: 144840.0585\n",
      "- R2 Score: 0.7361\n",
      "===================================\n",
      "\n",
      "\n"
     ]
    }
   ],
   "source": [
    "models = {\n",
    "    \"Linear Regression\": LinearRegression(),\n",
    "    \"Lasso\": Lasso(),\n",
    "    \"Ridge\": Ridge(),\n",
    "    \"K-Neighbors Regressor\": KNeighborsRegressor(),\n",
    "    \"Decision Tree\": DecisionTreeRegressor(),\n",
    "    \"Random Forest Regressor\": RandomForestRegressor(),\n",
    "    \"XGBRegressor\": XGBRegressor(), \n",
    "    \"CatBoosting Regressor\": CatBoostRegressor(verbose=False),\n",
    "    \"AdaBoost Regressor\": AdaBoostRegressor()\n",
    "}\n",
    "model_list = []\n",
    "r2_list =[]\n",
    "\n",
    "for i in range(len(list(models))):\n",
    "    model = list(models.values())[i]\n",
    "    model.fit(X_train, y_train) # Train model\n",
    "\n",
    "    # Make predictions\n",
    "    y_train_pred = model.predict(X_train)\n",
    "    y_test_pred = model.predict(X_test)\n",
    "    \n",
    "    # Evaluate Train and Test dataset\n",
    "    model_train_mae , model_train_rmse, model_train_r2 = evaluate_model(y_train, y_train_pred)\n",
    "\n",
    "    model_test_mae , model_test_rmse, model_test_r2 = evaluate_model(y_test, y_test_pred)\n",
    "\n",
    "    \n",
    "    print(list(models.keys())[i])\n",
    "    model_list.append(list(models.keys())[i])\n",
    "    \n",
    "    print('Model performance for Training set')\n",
    "    print(\"- Root Mean Squared Error: {:.4f}\".format(model_train_rmse))\n",
    "    print(\"- Mean Absolute Error: {:.4f}\".format(model_train_mae))\n",
    "    print(\"- R2 Score: {:.4f}\".format(model_train_r2))\n",
    "\n",
    "    print('----------------------------------')\n",
    "    \n",
    "    print('Model performance for Test set')\n",
    "    print(\"- Root Mean Squared Error: {:.4f}\".format(model_test_rmse))\n",
    "    print(\"- Mean Absolute Error: {:.4f}\".format(model_test_mae))\n",
    "    print(\"- R2 Score: {:.4f}\".format(model_test_r2))\n",
    "    r2_list.append(model_test_r2)\n",
    "    \n",
    "    print('='*35)\n",
    "    print('\\n')"
   ]
  },
  {
   "cell_type": "code",
   "execution_count": 279,
   "id": "d9a77bfd-f0e3-4cd5-9d78-e1cbf4c17b7f",
   "metadata": {},
   "outputs": [
    {
     "data": {
      "text/html": [
       "<div>\n",
       "<style scoped>\n",
       "    .dataframe tbody tr th:only-of-type {\n",
       "        vertical-align: middle;\n",
       "    }\n",
       "\n",
       "    .dataframe tbody tr th {\n",
       "        vertical-align: top;\n",
       "    }\n",
       "\n",
       "    .dataframe thead th {\n",
       "        text-align: right;\n",
       "    }\n",
       "</style>\n",
       "<table border=\"1\" class=\"dataframe\">\n",
       "  <thead>\n",
       "    <tr style=\"text-align: right;\">\n",
       "      <th></th>\n",
       "      <th>Model Name</th>\n",
       "      <th>R2_Score</th>\n",
       "    </tr>\n",
       "  </thead>\n",
       "  <tbody>\n",
       "    <tr>\n",
       "      <th>7</th>\n",
       "      <td>CatBoosting Regressor</td>\n",
       "      <td>0.914038</td>\n",
       "    </tr>\n",
       "    <tr>\n",
       "      <th>6</th>\n",
       "      <td>XGBRegressor</td>\n",
       "      <td>0.912265</td>\n",
       "    </tr>\n",
       "    <tr>\n",
       "      <th>5</th>\n",
       "      <td>Random Forest Regressor</td>\n",
       "      <td>0.910089</td>\n",
       "    </tr>\n",
       "    <tr>\n",
       "      <th>3</th>\n",
       "      <td>K-Neighbors Regressor</td>\n",
       "      <td>0.901877</td>\n",
       "    </tr>\n",
       "    <tr>\n",
       "      <th>4</th>\n",
       "      <td>Decision Tree</td>\n",
       "      <td>0.897810</td>\n",
       "    </tr>\n",
       "    <tr>\n",
       "      <th>2</th>\n",
       "      <td>Ridge</td>\n",
       "      <td>0.864050</td>\n",
       "    </tr>\n",
       "    <tr>\n",
       "      <th>0</th>\n",
       "      <td>Linear Regression</td>\n",
       "      <td>0.863691</td>\n",
       "    </tr>\n",
       "    <tr>\n",
       "      <th>1</th>\n",
       "      <td>Lasso</td>\n",
       "      <td>0.863571</td>\n",
       "    </tr>\n",
       "    <tr>\n",
       "      <th>8</th>\n",
       "      <td>AdaBoost Regressor</td>\n",
       "      <td>0.736055</td>\n",
       "    </tr>\n",
       "  </tbody>\n",
       "</table>\n",
       "</div>"
      ],
      "text/plain": [
       "                Model Name  R2_Score\n",
       "7    CatBoosting Regressor  0.914038\n",
       "6             XGBRegressor  0.912265\n",
       "5  Random Forest Regressor  0.910089\n",
       "3    K-Neighbors Regressor  0.901877\n",
       "4            Decision Tree  0.897810\n",
       "2                    Ridge  0.864050\n",
       "0        Linear Regression  0.863691\n",
       "1                    Lasso  0.863571\n",
       "8       AdaBoost Regressor  0.736055"
      ]
     },
     "execution_count": 279,
     "metadata": {},
     "output_type": "execute_result"
    }
   ],
   "source": [
    "pd.DataFrame(list(zip(model_list, r2_list)), columns=['Model Name', 'R2_Score']).sort_values(by=[\"R2_Score\"],ascending=False)"
   ]
  },
  {
   "cell_type": "code",
   "execution_count": 281,
   "id": "a3b74bf7-8377-4a7f-bf79-226c23d38c9b",
   "metadata": {},
   "outputs": [
    {
     "ename": "ValueError",
     "evalue": "could not convert string to float: 'maruti'",
     "output_type": "error",
     "traceback": [
      "\u001b[1;31m---------------------------------------------------------------------------\u001b[0m",
      "\u001b[1;31mValueError\u001b[0m                                Traceback (most recent call last)",
      "Cell \u001b[1;32mIn[281], line 1\u001b[0m\n\u001b[1;32m----> 1\u001b[0m newCorr \u001b[38;5;241m=\u001b[39m newTrainDf\u001b[38;5;241m.\u001b[39mcorr()\n\u001b[0;32m      2\u001b[0m plt\u001b[38;5;241m.\u001b[39mfigure(figsize\u001b[38;5;241m=\u001b[39m(\u001b[38;5;241m25\u001b[39m, \u001b[38;5;241m12\u001b[39m)) \n\u001b[0;32m      3\u001b[0m sns\u001b[38;5;241m.\u001b[39mheatmap(newCorr, annot\u001b[38;5;241m=\u001b[39m\u001b[38;5;28;01mTrue\u001b[39;00m, cmap\u001b[38;5;241m=\u001b[39m\u001b[38;5;124m'\u001b[39m\u001b[38;5;124mcoolwarm\u001b[39m\u001b[38;5;124m'\u001b[39m, fmt\u001b[38;5;241m=\u001b[39m\u001b[38;5;124m\"\u001b[39m\u001b[38;5;124m.2f\u001b[39m\u001b[38;5;124m\"\u001b[39m, linewidths\u001b[38;5;241m=\u001b[39m\u001b[38;5;241m0.5\u001b[39m, cbar\u001b[38;5;241m=\u001b[39m\u001b[38;5;28;01mNone\u001b[39;00m)\n",
      "File \u001b[1;32m~\\anaconda3\\Lib\\site-packages\\pandas\\core\\frame.py:11049\u001b[0m, in \u001b[0;36mDataFrame.corr\u001b[1;34m(self, method, min_periods, numeric_only)\u001b[0m\n\u001b[0;32m  11047\u001b[0m cols \u001b[38;5;241m=\u001b[39m data\u001b[38;5;241m.\u001b[39mcolumns\n\u001b[0;32m  11048\u001b[0m idx \u001b[38;5;241m=\u001b[39m cols\u001b[38;5;241m.\u001b[39mcopy()\n\u001b[1;32m> 11049\u001b[0m mat \u001b[38;5;241m=\u001b[39m data\u001b[38;5;241m.\u001b[39mto_numpy(dtype\u001b[38;5;241m=\u001b[39m\u001b[38;5;28mfloat\u001b[39m, na_value\u001b[38;5;241m=\u001b[39mnp\u001b[38;5;241m.\u001b[39mnan, copy\u001b[38;5;241m=\u001b[39m\u001b[38;5;28;01mFalse\u001b[39;00m)\n\u001b[0;32m  11051\u001b[0m \u001b[38;5;28;01mif\u001b[39;00m method \u001b[38;5;241m==\u001b[39m \u001b[38;5;124m\"\u001b[39m\u001b[38;5;124mpearson\u001b[39m\u001b[38;5;124m\"\u001b[39m:\n\u001b[0;32m  11052\u001b[0m     correl \u001b[38;5;241m=\u001b[39m libalgos\u001b[38;5;241m.\u001b[39mnancorr(mat, minp\u001b[38;5;241m=\u001b[39mmin_periods)\n",
      "File \u001b[1;32m~\\anaconda3\\Lib\\site-packages\\pandas\\core\\frame.py:1993\u001b[0m, in \u001b[0;36mDataFrame.to_numpy\u001b[1;34m(self, dtype, copy, na_value)\u001b[0m\n\u001b[0;32m   1991\u001b[0m \u001b[38;5;28;01mif\u001b[39;00m dtype \u001b[38;5;129;01mis\u001b[39;00m \u001b[38;5;129;01mnot\u001b[39;00m \u001b[38;5;28;01mNone\u001b[39;00m:\n\u001b[0;32m   1992\u001b[0m     dtype \u001b[38;5;241m=\u001b[39m np\u001b[38;5;241m.\u001b[39mdtype(dtype)\n\u001b[1;32m-> 1993\u001b[0m result \u001b[38;5;241m=\u001b[39m \u001b[38;5;28mself\u001b[39m\u001b[38;5;241m.\u001b[39m_mgr\u001b[38;5;241m.\u001b[39mas_array(dtype\u001b[38;5;241m=\u001b[39mdtype, copy\u001b[38;5;241m=\u001b[39mcopy, na_value\u001b[38;5;241m=\u001b[39mna_value)\n\u001b[0;32m   1994\u001b[0m \u001b[38;5;28;01mif\u001b[39;00m result\u001b[38;5;241m.\u001b[39mdtype \u001b[38;5;129;01mis\u001b[39;00m \u001b[38;5;129;01mnot\u001b[39;00m dtype:\n\u001b[0;32m   1995\u001b[0m     result \u001b[38;5;241m=\u001b[39m np\u001b[38;5;241m.\u001b[39masarray(result, dtype\u001b[38;5;241m=\u001b[39mdtype)\n",
      "File \u001b[1;32m~\\anaconda3\\Lib\\site-packages\\pandas\\core\\internals\\managers.py:1694\u001b[0m, in \u001b[0;36mBlockManager.as_array\u001b[1;34m(self, dtype, copy, na_value)\u001b[0m\n\u001b[0;32m   1692\u001b[0m         arr\u001b[38;5;241m.\u001b[39mflags\u001b[38;5;241m.\u001b[39mwriteable \u001b[38;5;241m=\u001b[39m \u001b[38;5;28;01mFalse\u001b[39;00m\n\u001b[0;32m   1693\u001b[0m \u001b[38;5;28;01melse\u001b[39;00m:\n\u001b[1;32m-> 1694\u001b[0m     arr \u001b[38;5;241m=\u001b[39m \u001b[38;5;28mself\u001b[39m\u001b[38;5;241m.\u001b[39m_interleave(dtype\u001b[38;5;241m=\u001b[39mdtype, na_value\u001b[38;5;241m=\u001b[39mna_value)\n\u001b[0;32m   1695\u001b[0m     \u001b[38;5;66;03m# The underlying data was copied within _interleave, so no need\u001b[39;00m\n\u001b[0;32m   1696\u001b[0m     \u001b[38;5;66;03m# to further copy if copy=True or setting na_value\u001b[39;00m\n\u001b[0;32m   1698\u001b[0m \u001b[38;5;28;01mif\u001b[39;00m na_value \u001b[38;5;129;01mis\u001b[39;00m lib\u001b[38;5;241m.\u001b[39mno_default:\n",
      "File \u001b[1;32m~\\anaconda3\\Lib\\site-packages\\pandas\\core\\internals\\managers.py:1753\u001b[0m, in \u001b[0;36mBlockManager._interleave\u001b[1;34m(self, dtype, na_value)\u001b[0m\n\u001b[0;32m   1751\u001b[0m     \u001b[38;5;28;01melse\u001b[39;00m:\n\u001b[0;32m   1752\u001b[0m         arr \u001b[38;5;241m=\u001b[39m blk\u001b[38;5;241m.\u001b[39mget_values(dtype)\n\u001b[1;32m-> 1753\u001b[0m     result[rl\u001b[38;5;241m.\u001b[39mindexer] \u001b[38;5;241m=\u001b[39m arr\n\u001b[0;32m   1754\u001b[0m     itemmask[rl\u001b[38;5;241m.\u001b[39mindexer] \u001b[38;5;241m=\u001b[39m \u001b[38;5;241m1\u001b[39m\n\u001b[0;32m   1756\u001b[0m \u001b[38;5;28;01mif\u001b[39;00m \u001b[38;5;129;01mnot\u001b[39;00m itemmask\u001b[38;5;241m.\u001b[39mall():\n",
      "\u001b[1;31mValueError\u001b[0m: could not convert string to float: 'maruti'"
     ]
    }
   ],
   "source": []
  },
  {
   "cell_type": "code",
   "execution_count": null,
   "id": "35934ee5-fb39-4d47-a7ad-a594ed3f2b17",
   "metadata": {},
   "outputs": [],
   "source": []
  },
  {
   "cell_type": "code",
   "execution_count": null,
   "id": "55984a43-9aa4-400f-a74c-cf06a60c8f4a",
   "metadata": {},
   "outputs": [],
   "source": []
  },
  {
   "cell_type": "code",
   "execution_count": null,
   "id": "78029101-4d69-49c7-b8ea-46e6a86294b3",
   "metadata": {},
   "outputs": [],
   "source": []
  },
  {
   "cell_type": "code",
   "execution_count": null,
   "id": "fc4fb342-e4bd-4a91-a59e-d5fa60fad0c0",
   "metadata": {},
   "outputs": [],
   "source": []
  },
  {
   "cell_type": "code",
   "execution_count": null,
   "id": "556ed702-5a7e-4ef3-912c-1b34361cc1b8",
   "metadata": {},
   "outputs": [],
   "source": []
  }
 ],
 "metadata": {
  "kernelspec": {
   "display_name": "Python 3 (ipykernel)",
   "language": "python",
   "name": "python3"
  },
  "language_info": {
   "codemirror_mode": {
    "name": "ipython",
    "version": 3
   },
   "file_extension": ".py",
   "mimetype": "text/x-python",
   "name": "python",
   "nbconvert_exporter": "python",
   "pygments_lexer": "ipython3",
   "version": "3.12.4"
  }
 },
 "nbformat": 4,
 "nbformat_minor": 5
}
